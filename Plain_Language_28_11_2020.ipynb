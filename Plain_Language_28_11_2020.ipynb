{
  "nbformat": 4,
  "nbformat_minor": 0,
  "metadata": {
    "kernelspec": {
      "display_name": "Python 3",
      "language": "python",
      "name": "python3"
    },
    "language_info": {
      "codemirror_mode": {
        "name": "ipython",
        "version": 3
      },
      "file_extension": ".py",
      "mimetype": "text/x-python",
      "name": "python",
      "nbconvert_exporter": "python",
      "pygments_lexer": "ipython3",
      "version": "3.8.3"
    },
    "colab": {
      "name": "Plain Language 28.11.2020.ipynb",
      "provenance": [],
      "collapsed_sections": []
    }
  },
  "cells": [
    {
      "cell_type": "markdown",
      "metadata": {
        "id": "sjbT6pGtjNex"
      },
      "source": [
        "### To find out the length of each sentence"
      ]
    },
    {
      "cell_type": "markdown",
      "metadata": {
        "id": "2-5j90LUjNex"
      },
      "source": [
        "https://www.karneval.berlin/en/parade/general-information.html\n",
        "\n",
        "https://mog61.de/free-jazz-im-zeichen-der-inklusion/"
      ]
    },
    {
      "cell_type": "code",
      "metadata": {
        "id": "aDMG8gTnjNex"
      },
      "source": [
        "text_en = \"Every year, about 4,500 actors in about 75 groups take part in the street parade. These are associations and initiatives, schools and youth centres, independent theatre groups and associations of friends. In short, people meet each other and bring their ideas to the street with creative and musical performances on a theme of their choice. Almost all groups are from Berlin although they are oftentimes joined by friends or cooperation parners from other parts of Germany or the World. Along the 3.5 km long route about 600,000 visitors applaud and let themselves be carried away by the dance of fantasy and joy. The caravan turns the street into Berlin's largest stage, questioning everyday life and politics through art and celebration. The Karneval der Kulturen is open to all and all forms of cultural expression. It is a platform for empowerment and play with identity with space for both traditional and contemporary elements. It includes and attracts all age groups, professional artists and amateurs, people from all walks of life.\""
      ],
      "execution_count": null,
      "outputs": []
    },
    {
      "cell_type": "code",
      "metadata": {
        "id": "jHAVYPHEjNey"
      },
      "source": [
        "text_de = \"Jedes Jahr beteiligen sich ca. 4.500 Akteur*innen in ca. 75 Gruppen an dem Straßenumzug. Es sind Vereine und Initiativen, Schulen und Jugendzentren, freie Theatergruppen und Zusammenschlüsse von Freund*innen. Kurz, Menschen begegnen sich und bringen gestalterisch und musikalisch ihre Idee zu einem selbstgewählten Thema auf die Straße. Entlang der 3,5 km langen Strecke spenden ca. 600.000 Besucher*innen Beifall und lassen sich vom Tanz der Fantasie und Freude mitreißen. Während die letzten Nachtschwärmer*innen den Weg nach Hause suchen, sammeln sich irund um die Yorckstraße in den frühen Morgenstunden die ersten Akteur*innen für den großen Straßenumzug. Aus der ganzen Stadt bewegen sich Menschen in Richtung Kreuzberg – in großem Kostüm in der U-Bahn oder ihre Instrumente auf Fahrrädern balancierend. Im Aufstellungsbereich finden sich alle Gruppen zusammen, verleihen ihrem Gefährt den allerletzten Schliff, üben diesen einen kniffligen Break, gehen die Choreografie noch einmal durch und schminken sich. Menschen verschwinden unter Großfiguren aus Pappmaché, Stelzenläufer*innen wärmen sich auf und ein unauffälliger Herr steigt in sein Froschkostüm. Während die Spannung in der Zuschauermenge steigt, setzt sich die erste Gruppe in Bewegung.\""
      ],
      "execution_count": null,
      "outputs": []
    },
    {
      "cell_type": "code",
      "metadata": {
        "id": "wp2Kch1uUdeu"
      },
      "source": [
        "#text_en = \"On the occasion of the European Protest Day for the Equality of People with Disabilities on 5 May, the non-profit association mog61 Miteinander ohne Grenzen e.V., or mog61 for short, is traditionally organising a day of inclusion in the form of a jazz concert with top-class representatives of the jazz and free jazz scene. This year, the event was actually supposed to take place on May 2nd and the visitors* expected a concert of absolute superlatives - with Aki Takase, Alexander von Schlippenbach, Rudi Mahall, Anna Kaluza, Christof Thewes and many other big names. Never before have so many musicians* suddenly supported the Day of Inclusion of mog61 e.V. musically. Unfortunately the concert in spring had to be cancelled at short notice due to the Covid-19 pandemic. Especially bitter for the musicians*, but also for us, because the preparations were almost finished, among other things the poster for the concert was already ready. But of course mog61 e.V. does not give up. We are happy to present a new date for the concert on 27 November 2020. It is true that the corona virus will again prevent a full concert hall, as we have been used to in the past years. But because we do not want to admit defeat for the second time, the event will now be streamed live on Facebook and YouTube in full compliance with the corona protection measures. As such a live stream is a premiere for mog61, the association is pleased about the friendly support of NHU Urbanstraße, AktionMensch, Freakstreet Production Berlin, KuDiBa and PAM/events, who will be present with technology, equipment, personnel and professional know-how.\""
      ],
      "execution_count": null,
      "outputs": []
    },
    {
      "cell_type": "code",
      "metadata": {
        "id": "TIC-fB6ZL038"
      },
      "source": [
        "#text_de = \"Anlässlich des Europäischen Protesttags zur Gleichstellung von Menschen mit Behinderung am 5. Mai veranstaltet der gemeinnützige Verein mog61 Miteinander ohne Grenzen e.V., kurz mog61 e.V., traditionell einen Tag der Inklusion in Form eines Jazzkonzertes mit hochkarätigen Vertreterinnen der Jazz- und Free Jazz-Szene. Dieses Jahr hätte die Veranstaltung eigentlich am 2. Mai stattfinden sollen und die Besucher*innen hätte ein Konzert der absoluten Superlative erwartet – mit Aki Takase, Alexander von Schlippenbach, Rudi Mahall, Anna Kaluza, Christof Thewes und vielen anderen großen Namen. Niemals zuvor hätten so viele Musiker*innen auf einmal den Tag der Inklusion von mog61 e.V. musikalisch unterstützt. Leider musste das Konzert im Frühjahr wegen der Covid-19-Pandemie kurzfristig abgesagt werden. Besonders bitter für die Musiker*innen, aber auch für uns, weil die Vorbereitungen beinahe abgeschlossen waren, unter anderem war das Plakat für das Konzert schon fertig. Aber mog61 e.V. gibt natürlich nicht auf. Wir freuen uns, mit dem 27. November 2020 jetzt einen neuen Termin präsentieren zu können. Zwar verhindert das Corona-Virus erneut einen vollen Konzertsaal, wie wir ihn in den vergangenen Jahren gewohnt waren. Weil wir uns aber nicht zum zweiten Mal geschlagen geben wollen, wird die Veranstaltung jetzt unter Berücksichtigung der Corona-Schutzmaßnahmen komplett auf Facebook und Youtube live gestreamt. Da so ein Live-Stream für mog61 eine Premiere ist, freut sich der Verein über die freundliche Unterstützung von NHU Urbanstraße, AktionMensch, Freakstreet Production Berlin, KuDiBa und PAM/events, die mit Technik, Gerätschaften, Personal und professionellem Know-How dabei sein werden.\""
      ],
      "execution_count": null,
      "outputs": []
    },
    {
      "cell_type": "code",
      "metadata": {
        "id": "5Fo3ZJpp_7Z9"
      },
      "source": [
        "import re"
      ],
      "execution_count": null,
      "outputs": []
    },
    {
      "cell_type": "code",
      "metadata": {
        "id": "i_DHd8fejNey"
      },
      "source": [
        "def sentence_length(text):\n",
        "    '''\n",
        "    split text into sentence by using regex\n",
        "    \n",
        "    param: text (string)\n",
        "    \n",
        "    return: length of each sentence  \n",
        "    \n",
        "    '''\n",
        "    s = re.split(r'(?<=[^A-Z].[.?]) +(?=[A-Z])', text)\n",
        "    length = []\n",
        "    for i in range(len(s)):\n",
        "        length.append(len(s[i].split(' ')))\n",
        "        \n",
        "    return length"
      ],
      "execution_count": null,
      "outputs": []
    },
    {
      "cell_type": "code",
      "metadata": {
        "colab": {
          "base_uri": "https://localhost:8080/"
        },
        "id": "sP3QmrmrjNey",
        "outputId": "9915b670-220c-4bc0-9d66-cd744de0adbd"
      },
      "source": [
        "sentence_length(text_en)"
      ],
      "execution_count": null,
      "outputs": [
        {
          "output_type": "execute_result",
          "data": {
            "text/plain": [
              "[15, 16, 24, 24, 23, 18, 14, 18, 17]"
            ]
          },
          "metadata": {
            "tags": []
          },
          "execution_count": 5
        }
      ]
    },
    {
      "cell_type": "code",
      "metadata": {
        "colab": {
          "base_uri": "https://localhost:8080/"
        },
        "id": "8TbFnadFjNez",
        "outputId": "d2d2eb48-1161-4bc7-90e6-749dd845f61b"
      },
      "source": [
        "sentence_length(text_de)"
      ],
      "execution_count": null,
      "outputs": [
        {
          "output_type": "execute_result",
          "data": {
            "text/plain": [
              "[14, 14, 18, 21, 26, 23, 27, 18, 14]"
            ]
          },
          "metadata": {
            "tags": []
          },
          "execution_count": 6
        }
      ]
    },
    {
      "cell_type": "code",
      "metadata": {
        "id": "iORhewrVjNez"
      },
      "source": [
        "def long_sentence(text,number_of_words:int):\n",
        "    '''\n",
        "    to show the text has long sentence\n",
        "    \n",
        "    param: text (string)\n",
        "    param: number_of_words (integer)\n",
        "    \n",
        "    return: long sentences \n",
        "    \n",
        "    '''\n",
        "    length = sentence_length(text)\n",
        "    \n",
        "    s = re.split(r'(?<=[^A-Z].[.?]) +(?=[A-Z])', text)\n",
        "    \n",
        "    print(f'The following sentences have more than {number_of_words} words:') \n",
        "    print(f'Die folgenden Sätze haben mehr als {number_of_words} Wörter:')\n",
        "    \n",
        "    sentence = []\n",
        "    \n",
        "    for i in range(len(length)):\n",
        "        if length[i] > number_of_words: # number of words\n",
        "            sentence.append(s[i])\n",
        "            print(f'Sentence {i+1} ({length[i]} words): {s[i]}')\n",
        "        else: pass\n",
        "    \n",
        "    return sentence"
      ],
      "execution_count": null,
      "outputs": []
    },
    {
      "cell_type": "code",
      "metadata": {
        "colab": {
          "base_uri": "https://localhost:8080/"
        },
        "id": "lgsVUPT_jNe0",
        "outputId": "89ed6b5c-9d99-416d-8fe7-4e853b7756a2"
      },
      "source": [
        "sentence_en  = long_sentence(text_en,10)"
      ],
      "execution_count": null,
      "outputs": [
        {
          "output_type": "stream",
          "text": [
            "The following sentences have more than 10 words:\n",
            "Die folgenden Sätze haben mehr als 10 Wörter:\n",
            "Sentence 1 (15 words): Every year, about 4,500 actors in about 75 groups take part in the street parade.\n",
            "Sentence 2 (16 words): These are associations and initiatives, schools and youth centres, independent theatre groups and associations of friends.\n",
            "Sentence 3 (24 words): In short, people meet each other and bring their ideas to the street with creative and musical performances on a theme of their choice.\n",
            "Sentence 4 (24 words): Almost all groups are from Berlin although they are oftentimes joined by friends or cooperation parners from other parts of Germany or the World.\n",
            "Sentence 5 (23 words): Along the 3.5 km long route about 600,000 visitors applaud and let themselves be carried away by the dance of fantasy and joy.\n",
            "Sentence 6 (18 words): The caravan turns the street into Berlin's largest stage, questioning everyday life and politics through art and celebration.\n",
            "Sentence 7 (14 words): The Karneval der Kulturen is open to all and all forms of cultural expression.\n",
            "Sentence 8 (18 words): It is a platform for empowerment and play with identity with space for both traditional and contemporary elements.\n",
            "Sentence 9 (17 words): It includes and attracts all age groups, professional artists and amateurs, people from all walks of life.\n"
          ],
          "name": "stdout"
        }
      ]
    },
    {
      "cell_type": "code",
      "metadata": {
        "colab": {
          "base_uri": "https://localhost:8080/"
        },
        "id": "flSfedEds7qq",
        "outputId": "efeb45f0-c376-42fb-af67-86a5eb952002"
      },
      "source": [
        "sentence_en"
      ],
      "execution_count": null,
      "outputs": [
        {
          "output_type": "execute_result",
          "data": {
            "text/plain": [
              "['Every year, about 4,500 actors in about 75 groups take part in the street parade.',\n",
              " 'These are associations and initiatives, schools and youth centres, independent theatre groups and associations of friends.',\n",
              " 'In short, people meet each other and bring their ideas to the street with creative and musical performances on a theme of their choice.',\n",
              " 'Almost all groups are from Berlin although they are oftentimes joined by friends or cooperation parners from other parts of Germany or the World.',\n",
              " 'Along the 3.5 km long route about 600,000 visitors applaud and let themselves be carried away by the dance of fantasy and joy.',\n",
              " \"The caravan turns the street into Berlin's largest stage, questioning everyday life and politics through art and celebration.\",\n",
              " 'The Karneval der Kulturen is open to all and all forms of cultural expression.',\n",
              " 'It is a platform for empowerment and play with identity with space for both traditional and contemporary elements.',\n",
              " 'It includes and attracts all age groups, professional artists and amateurs, people from all walks of life.']"
            ]
          },
          "metadata": {
            "tags": []
          },
          "execution_count": 9
        }
      ]
    },
    {
      "cell_type": "code",
      "metadata": {
        "colab": {
          "base_uri": "https://localhost:8080/"
        },
        "id": "F7ONPuNejNe0",
        "outputId": "d693e7dd-0cb9-4d6f-975a-0360dcf7d9ae"
      },
      "source": [
        "sentence_de =long_sentence(text_de,10)"
      ],
      "execution_count": null,
      "outputs": [
        {
          "output_type": "stream",
          "text": [
            "The following sentences have more than 10 words:\n",
            "Die folgenden Sätze haben mehr als 10 Wörter:\n",
            "Sentence 1 (14 words): Jedes Jahr beteiligen sich ca. 4.500 Akteur*innen in ca. 75 Gruppen an dem Straßenumzug.\n",
            "Sentence 2 (14 words): Es sind Vereine und Initiativen, Schulen und Jugendzentren, freie Theatergruppen und Zusammenschlüsse von Freund*innen.\n",
            "Sentence 3 (18 words): Kurz, Menschen begegnen sich und bringen gestalterisch und musikalisch ihre Idee zu einem selbstgewählten Thema auf die Straße.\n",
            "Sentence 4 (21 words): Entlang der 3,5 km langen Strecke spenden ca. 600.000 Besucher*innen Beifall und lassen sich vom Tanz der Fantasie und Freude mitreißen.\n",
            "Sentence 5 (26 words): Während die letzten Nachtschwärmer*innen den Weg nach Hause suchen, sammeln sich irund um die Yorckstraße in den frühen Morgenstunden die ersten Akteur*innen für den großen Straßenumzug.\n",
            "Sentence 6 (23 words): Aus der ganzen Stadt bewegen sich Menschen in Richtung Kreuzberg – in großem Kostüm in der U-Bahn oder ihre Instrumente auf Fahrrädern balancierend.\n",
            "Sentence 7 (27 words): Im Aufstellungsbereich finden sich alle Gruppen zusammen, verleihen ihrem Gefährt den allerletzten Schliff, üben diesen einen kniffligen Break, gehen die Choreografie noch einmal durch und schminken sich.\n",
            "Sentence 8 (18 words): Menschen verschwinden unter Großfiguren aus Pappmaché, Stelzenläufer*innen wärmen sich auf und ein unauffälliger Herr steigt in sein Froschkostüm.\n",
            "Sentence 9 (14 words): Während die Spannung in der Zuschauermenge steigt, setzt sich die erste Gruppe in Bewegung.\n"
          ],
          "name": "stdout"
        }
      ]
    },
    {
      "cell_type": "code",
      "metadata": {
        "colab": {
          "base_uri": "https://localhost:8080/"
        },
        "id": "CLo8PQMbliPm",
        "outputId": "f0eb773f-2a9c-4fc2-9247-9fce0d907459"
      },
      "source": [
        "sentence_de"
      ],
      "execution_count": null,
      "outputs": [
        {
          "output_type": "execute_result",
          "data": {
            "text/plain": [
              "['Jedes Jahr beteiligen sich ca. 4.500 Akteur*innen in ca. 75 Gruppen an dem Straßenumzug.',\n",
              " 'Es sind Vereine und Initiativen, Schulen und Jugendzentren, freie Theatergruppen und Zusammenschlüsse von Freund*innen.',\n",
              " 'Kurz, Menschen begegnen sich und bringen gestalterisch und musikalisch ihre Idee zu einem selbstgewählten Thema auf die Straße.',\n",
              " 'Entlang der 3,5 km langen Strecke spenden ca. 600.000 Besucher*innen Beifall und lassen sich vom Tanz der Fantasie und Freude mitreißen.',\n",
              " 'Während die letzten Nachtschwärmer*innen den Weg nach Hause suchen, sammeln sich irund um die Yorckstraße in den frühen Morgenstunden die ersten Akteur*innen für den großen Straßenumzug.',\n",
              " 'Aus der ganzen Stadt bewegen sich Menschen in Richtung Kreuzberg – in großem Kostüm in der U-Bahn oder ihre Instrumente auf Fahrrädern balancierend.',\n",
              " 'Im Aufstellungsbereich finden sich alle Gruppen zusammen, verleihen ihrem Gefährt den allerletzten Schliff, üben diesen einen kniffligen Break, gehen die Choreografie noch einmal durch und schminken sich.',\n",
              " 'Menschen verschwinden unter Großfiguren aus Pappmaché, Stelzenläufer*innen wärmen sich auf und ein unauffälliger Herr steigt in sein Froschkostüm.',\n",
              " 'Während die Spannung in der Zuschauermenge steigt, setzt sich die erste Gruppe in Bewegung.']"
            ]
          },
          "metadata": {
            "tags": []
          },
          "execution_count": 11
        }
      ]
    },
    {
      "cell_type": "markdown",
      "metadata": {
        "id": "ekiHIeDoty7o"
      },
      "source": [
        "## Spacy - detech passive voice sentence\n",
        "\n",
        "https://spacy.io/models"
      ]
    },
    {
      "cell_type": "code",
      "metadata": {
        "id": "jIOnpO0HjNe1"
      },
      "source": [
        "import spacy\n",
        "nlp = spacy.load('en_core_web_sm')"
      ],
      "execution_count": 32,
      "outputs": []
    },
    {
      "cell_type": "code",
      "metadata": {
        "colab": {
          "base_uri": "https://localhost:8080/"
        },
        "id": "uJyjTP2zui-e",
        "outputId": "988f9a93-079c-4395-ab73-d39f6365d740"
      },
      "source": [
        "sentence_en"
      ],
      "execution_count": null,
      "outputs": [
        {
          "output_type": "execute_result",
          "data": {
            "text/plain": [
              "['Every year, about 4,500 actors in about 75 groups take part in the street parade.',\n",
              " 'These are associations and initiatives, schools and youth centres, independent theatre groups and associations of friends.',\n",
              " 'In short, people meet each other and bring their ideas to the street with creative and musical performances on a theme of their choice.',\n",
              " 'Almost all groups are from Berlin although they are oftentimes joined by friends or cooperation parners from other parts of Germany or the World.',\n",
              " 'Along the 3.5 km long route about 600,000 visitors applaud and let themselves be carried away by the dance of fantasy and joy.',\n",
              " \"The caravan turns the street into Berlin's largest stage, questioning everyday life and politics through art and celebration.\",\n",
              " 'The Karneval der Kulturen is open to all and all forms of cultural expression.',\n",
              " 'It is a platform for empowerment and play with identity with space for both traditional and contemporary elements.',\n",
              " 'It includes and attracts all age groups, professional artists and amateurs, people from all walks of life.']"
            ]
          },
          "metadata": {
            "tags": []
          },
          "execution_count": 12
        }
      ]
    },
    {
      "cell_type": "code",
      "metadata": {
        "id": "E23yu0wzOqkA"
      },
      "source": [
        "def passive_en(sentences):\n",
        "\n",
        "  '''\n",
        "  using spacy to check parser if passive verb is used in english\n",
        "\n",
        "  return passive sentences\n",
        "\n",
        "  '''\n",
        "  nlp = spacy.load('en_core_web_sm')\n",
        "  for i, sent in enumerate (sentences,1):\n",
        "    doc = nlp(sent)\n",
        "    for j ,word in enumerate (doc,1):\n",
        "      if word.dep_ == 'auxpass':\n",
        "        print(f'Sentence {i} is a passive sentence with word {j} is passive verb : {sent}')\n",
        "  return "
      ],
      "execution_count": 126,
      "outputs": []
    },
    {
      "cell_type": "code",
      "metadata": {
        "colab": {
          "base_uri": "https://localhost:8080/"
        },
        "id": "ED32YMbTQmso",
        "outputId": "670b8cb2-1b86-42ad-c5c1-4ee618438265"
      },
      "source": [
        "passive_en(sentence_en)"
      ],
      "execution_count": 127,
      "outputs": [
        {
          "output_type": "stream",
          "text": [
            "Sentence 5 is a passive sentence with word 14 is passive verb : Along the 3.5 km long route about 600,000 visitors applaud and let themselves be carried away by the dance of fantasy and joy.\n"
          ],
          "name": "stdout"
        }
      ]
    },
    {
      "cell_type": "code",
      "metadata": {
        "colab": {
          "base_uri": "https://localhost:8080/"
        },
        "id": "e4YNO8K5Wgho",
        "outputId": "2f36a4a4-ee40-4f67-e305-a0502a6df5ed"
      },
      "source": [
        "sentence_de"
      ],
      "execution_count": 128,
      "outputs": [
        {
          "output_type": "execute_result",
          "data": {
            "text/plain": [
              "['Jedes Jahr beteiligen sich ca. 4.500 Akteur*innen in ca. 75 Gruppen an dem Straßenumzug.',\n",
              " 'Es sind Vereine und Initiativen, Schulen und Jugendzentren, freie Theatergruppen und Zusammenschlüsse von Freund*innen.',\n",
              " 'Kurz, Menschen begegnen sich und bringen gestalterisch und musikalisch ihre Idee zu einem selbstgewählten Thema auf die Straße.',\n",
              " 'Entlang der 3,5 km langen Strecke spenden ca. 600.000 Besucher*innen Beifall und lassen sich vom Tanz der Fantasie und Freude mitreißen.',\n",
              " 'Während die letzten Nachtschwärmer*innen den Weg nach Hause suchen, sammeln sich irund um die Yorckstraße in den frühen Morgenstunden die ersten Akteur*innen für den großen Straßenumzug.',\n",
              " 'Aus der ganzen Stadt bewegen sich Menschen in Richtung Kreuzberg – in großem Kostüm in der U-Bahn oder ihre Instrumente auf Fahrrädern balancierend.',\n",
              " 'Im Aufstellungsbereich finden sich alle Gruppen zusammen, verleihen ihrem Gefährt den allerletzten Schliff, üben diesen einen kniffligen Break, gehen die Choreografie noch einmal durch und schminken sich.',\n",
              " 'Menschen verschwinden unter Großfiguren aus Pappmaché, Stelzenläufer*innen wärmen sich auf und ein unauffälliger Herr steigt in sein Froschkostüm.',\n",
              " 'Während die Spannung in der Zuschauermenge steigt, setzt sich die erste Gruppe in Bewegung.']"
            ]
          },
          "metadata": {
            "tags": []
          },
          "execution_count": 128
        }
      ]
    },
    {
      "cell_type": "code",
      "metadata": {
        "id": "ZcapeHRPVHvA"
      },
      "source": [
        "def passive_de(sentences):\n",
        "  '''\n",
        "  using spacy to check parser if passive verb is used in german\n",
        "\n",
        "  return passive sentences\n",
        "  \n",
        "  '''\n",
        "  nlp = spacy.load('de_core_news_sm')\n",
        "  for i, sent in enumerate (sentences,1):\n",
        "    doc = nlp(sent)\n",
        "    for j ,word in enumerate (doc,1):\n",
        "      if word.dep_ == 'og':\n",
        "        print(f'Satz {i} ist ein passiver Satz mit Wort {j} ist Passivverb : {sent}')\n",
        "  return "
      ],
      "execution_count": 176,
      "outputs": []
    },
    {
      "cell_type": "code",
      "metadata": {
        "colab": {
          "base_uri": "https://localhost:8080/"
        },
        "id": "dUCHA35YQxta",
        "outputId": "5968f39e-69e7-4a83-a36f-843a0c8a6d27"
      },
      "source": [
        "passive_de(sentence_de)"
      ],
      "execution_count": 177,
      "outputs": [
        {
          "output_type": "stream",
          "text": [
            "Satz 4 ist ein passiver Satz mit Wort 21 ist Passivverb : Entlang der 3,5 km langen Strecke spenden ca. 600.000 Besucher*innen Beifall und lassen sich vom Tanz der Fantasie und Freude mitreißen.\n"
          ],
          "name": "stdout"
        }
      ]
    },
    {
      "cell_type": "code",
      "metadata": {
        "id": "vRnJFtIhQxiZ"
      },
      "source": [
        "# parser for German : ROOT, ac, adc, ag, ams, app, avc, cc, cd, cj, cm, cp, cvc, da, dep, dm, ep, ju, mnr, mo, ng, nk, nmc, oa, oc, og, op, par, pd, pg, ph, pm, pnc, punct, rc, re, rs, sb, sbp, svp, uc, vo"
      ],
      "execution_count": null,
      "outputs": []
    },
    {
      "cell_type": "markdown",
      "metadata": {
        "id": "lXH9mujVsUZG"
      },
      "source": [
        "## Checking if words in model"
      ]
    },
    {
      "cell_type": "code",
      "metadata": {
        "id": "Y0fFXaRfsQsp"
      },
      "source": [
        "nlp = spacy.load('en_core_web_sm')"
      ],
      "execution_count": 178,
      "outputs": []
    },
    {
      "cell_type": "code",
      "metadata": {
        "colab": {
          "base_uri": "https://localhost:8080/"
        },
        "id": "GA52qillsb3S",
        "outputId": "cbf4dc22-ae0e-47c8-cafb-6a09c5585bb3"
      },
      "source": [
        "sentence_en"
      ],
      "execution_count": 180,
      "outputs": [
        {
          "output_type": "execute_result",
          "data": {
            "text/plain": [
              "['Every year, about 4,500 actors in about 75 groups take part in the street parade.',\n",
              " 'These are associations and initiatives, schools and youth centres, independent theatre groups and associations of friends.',\n",
              " 'In short, people meet each other and bring their ideas to the street with creative and musical performances on a theme of their choice.',\n",
              " 'Almost all groups are from Berlin although they are oftentimes joined by friends or cooperation parners from other parts of Germany or the World.',\n",
              " 'Along the 3.5 km long route about 600,000 visitors applaud and let themselves be carried away by the dance of fantasy and joy.',\n",
              " \"The caravan turns the street into Berlin's largest stage, questioning everyday life and politics through art and celebration.\",\n",
              " 'The Karneval der Kulturen is open to all and all forms of cultural expression.',\n",
              " 'It is a platform for empowerment and play with identity with space for both traditional and contemporary elements.',\n",
              " 'It includes and attracts all age groups, professional artists and amateurs, people from all walks of life.']"
            ]
          },
          "metadata": {
            "tags": []
          },
          "execution_count": 180
        }
      ]
    },
    {
      "cell_type": "code",
      "metadata": {
        "colab": {
          "base_uri": "https://localhost:8080/"
        },
        "id": "D417G11LWdJL",
        "outputId": "b35ed4f6-8e7a-45cd-e345-448850fb0c12"
      },
      "source": [
        "tokens = nlp(sentence_en[1])\n",
        "\n",
        "for token in tokens:\n",
        "    print(token.has_vector)"
      ],
      "execution_count": 183,
      "outputs": [
        {
          "output_type": "stream",
          "text": [
            "True\n",
            "True\n",
            "True\n",
            "True\n",
            "True\n",
            "True\n",
            "True\n",
            "True\n",
            "True\n",
            "True\n",
            "True\n",
            "True\n",
            "True\n",
            "True\n",
            "True\n",
            "True\n",
            "True\n",
            "True\n",
            "True\n"
          ],
          "name": "stdout"
        }
      ]
    },
    {
      "cell_type": "code",
      "metadata": {
        "colab": {
          "base_uri": "https://localhost:8080/"
        },
        "id": "GklQVlvEto-9",
        "outputId": "11cc2d33-a683-4c7a-87b8-9ccbced8dfb4"
      },
      "source": [
        "# Load the small English model\n",
        "\n",
        "nlp = spacy.load('en_core_web_sm') # Process a text\n",
        "doc = nlp(sentence_en[0]) # Iterate over the tokens\n",
        "for token in doc:\n",
        "# Print the text and the predicted part-of-speech tag\n",
        "  print(token.text, token.pos_)\n"
      ],
      "execution_count": null,
      "outputs": [
        {
          "output_type": "stream",
          "text": [
            "Every DET\n",
            "year NOUN\n",
            ", PUNCT\n",
            "about ADV\n",
            "4,500 NUM\n",
            "actors NOUN\n",
            "in ADP\n",
            "about ADV\n",
            "75 NUM\n",
            "groups NOUN\n",
            "take VERB\n",
            "part NOUN\n",
            "in ADP\n",
            "the DET\n",
            "street NOUN\n",
            "parade NOUN\n",
            ". PUNCT\n"
          ],
          "name": "stdout"
        }
      ]
    },
    {
      "cell_type": "code",
      "metadata": {
        "colab": {
          "base_uri": "https://localhost:8080/"
        },
        "id": "zf28nnBtv8B7",
        "outputId": "e858f8d3-8a8e-4738-d6af-66f47570f7ba"
      },
      "source": [
        "# Predicting Syntactic Dependencies\n",
        "for token in doc:\n",
        "  print(token.text, token.pos_, token.dep_, token.head.text)"
      ],
      "execution_count": null,
      "outputs": [
        {
          "output_type": "stream",
          "text": [
            "Every DET det year\n",
            "year NOUN npadvmod take\n",
            ", PUNCT punct take\n",
            "about ADV advmod 4,500\n",
            "4,500 NUM nummod actors\n",
            "actors NOUN nsubj take\n",
            "in ADP prep actors\n",
            "about ADV advmod 75\n",
            "75 NUM nummod groups\n",
            "groups NOUN pobj in\n",
            "take VERB ROOT take\n",
            "part NOUN dobj take\n",
            "in ADP prep take\n",
            "the DET det parade\n",
            "street NOUN compound parade\n",
            "parade NOUN pobj in\n",
            ". PUNCT punct take\n"
          ],
          "name": "stdout"
        }
      ]
    },
    {
      "cell_type": "code",
      "metadata": {
        "colab": {
          "base_uri": "https://localhost:8080/",
          "height": 37
        },
        "id": "QP8MvP1NwLky",
        "outputId": "735a30a6-680f-44fb-ea00-eba9cbb02fd1"
      },
      "source": [
        "spacy.explain('nummod')"
      ],
      "execution_count": null,
      "outputs": [
        {
          "output_type": "execute_result",
          "data": {
            "application/vnd.google.colaboratory.intrinsic+json": {
              "type": "string"
            },
            "text/plain": [
              "'numeric modifier'"
            ]
          },
          "metadata": {
            "tags": []
          },
          "execution_count": 16
        }
      ]
    },
    {
      "cell_type": "code",
      "metadata": {
        "colab": {
          "base_uri": "https://localhost:8080/"
        },
        "id": "JVWdoQuxwgD6",
        "outputId": "90d4c267-0395-4b62-a355-90d540bf07ab"
      },
      "source": [
        "nlp.vocab"
      ],
      "execution_count": null,
      "outputs": [
        {
          "output_type": "execute_result",
          "data": {
            "text/plain": [
              "<spacy.vocab.Vocab at 0x7f0bed36c8c8>"
            ]
          },
          "metadata": {
            "tags": []
          },
          "execution_count": 17
        }
      ]
    },
    {
      "cell_type": "code",
      "metadata": {
        "colab": {
          "base_uri": "https://localhost:8080/"
        },
        "id": "bETX-ntI0uL4",
        "outputId": "d0cd5dbd-a62c-4723-8486-0f6a5f859006"
      },
      "source": [
        "len(nlp.vocab.strings)"
      ],
      "execution_count": null,
      "outputs": [
        {
          "output_type": "execute_result",
          "data": {
            "text/plain": [
              "1164"
            ]
          },
          "metadata": {
            "tags": []
          },
          "execution_count": 18
        }
      ]
    },
    {
      "cell_type": "code",
      "metadata": {
        "id": "F-qicUxH09Q2"
      },
      "source": [
        "test = sentence_en[0].split(' ') "
      ],
      "execution_count": null,
      "outputs": []
    },
    {
      "cell_type": "code",
      "metadata": {
        "colab": {
          "base_uri": "https://localhost:8080/"
        },
        "id": "MhlIzsX01RXe",
        "outputId": "a4cfe52a-d0f3-4d24-9db5-72ffcae6b2b8"
      },
      "source": [
        "for i in test:\n",
        "  print(i)"
      ],
      "execution_count": null,
      "outputs": [
        {
          "output_type": "stream",
          "text": [
            "Every\n",
            "year,\n",
            "about\n",
            "4,500\n",
            "actors\n",
            "in\n",
            "about\n",
            "75\n",
            "groups\n",
            "take\n",
            "part\n",
            "in\n",
            "the\n",
            "street\n",
            "parade.\n"
          ],
          "name": "stdout"
        }
      ]
    },
    {
      "cell_type": "markdown",
      "metadata": {
        "id": "YLQ4Jg4_xH2p"
      },
      "source": [
        "https://spacy.io/models/de"
      ]
    },
    {
      "cell_type": "code",
      "metadata": {
        "id": "EuMDftiYvJ7i"
      },
      "source": [
        "# download german model\n",
        "#!python -m spacy download de_core_news_sm"
      ],
      "execution_count": null,
      "outputs": []
    },
    {
      "cell_type": "code",
      "metadata": {
        "colab": {
          "base_uri": "https://localhost:8080/"
        },
        "id": "o7IXrZjKvu2A",
        "outputId": "0aaf9ab0-503f-4653-a3a0-f915e6d88400"
      },
      "source": [
        "sentence_de"
      ],
      "execution_count": null,
      "outputs": [
        {
          "output_type": "execute_result",
          "data": {
            "text/plain": [
              "['Jedes Jahr beteiligen sich ca. 4.500 Akteur*innen in ca. 75 Gruppen an dem Straßenumzug.',\n",
              " 'Es sind Vereine und Initiativen, Schulen und Jugendzentren, freie Theatergruppen und Zusammenschlüsse von Freund*innen.',\n",
              " 'Kurz, Menschen begegnen sich und bringen gestalterisch und musikalisch ihre Idee zu einem selbstgewählten Thema auf die Straße.',\n",
              " 'Entlang der 3,5 km langen Strecke spenden ca. 600.000 Besucher*innen Beifall und lassen sich vom Tanz der Fantasie und Freude mitreißen.',\n",
              " 'Während die letzten Nachtschwärmer*innen den Weg nach Hause suchen, sammeln sich irund um die Yorckstraße in den frühen Morgenstunden die ersten Akteur*innen für den großen Straßenumzug.',\n",
              " 'Aus der ganzen Stadt bewegen sich Menschen in Richtung Kreuzberg – in großem Kostüm in der U-Bahn oder ihre Instrumente auf Fahrrädern balancierend.',\n",
              " 'Im Aufstellungsbereich finden sich alle Gruppen zusammen, verleihen ihrem Gefährt den allerletzten Schliff, üben diesen einen kniffligen Break, gehen die Choreografie noch einmal durch und schminken sich.',\n",
              " 'Menschen verschwinden unter Großfiguren aus Pappmaché, Stelzenläufer*innen wärmen sich auf und ein unauffälliger Herr steigt in sein Froschkostüm.',\n",
              " 'Während die Spannung in der Zuschauermenge steigt, setzt sich die erste Gruppe in Bewegung.']"
            ]
          },
          "metadata": {
            "tags": []
          },
          "execution_count": 21
        }
      ]
    },
    {
      "cell_type": "code",
      "metadata": {
        "colab": {
          "base_uri": "https://localhost:8080/"
        },
        "id": "UhJLWi59ve2s",
        "outputId": "f8d4ad22-1b8a-4be6-bbdf-52290a73f78d"
      },
      "source": [
        "import de_core_news_sm\n",
        "nlp = de_core_news_sm.load()\n",
        "doc = nlp(sentence_de[3]) # Iterate over the tokens\n",
        "for token in doc:\n",
        "# Print the text and the predicted part-of-speech tag\n",
        "  print(token.text, token.pos_)"
      ],
      "execution_count": 131,
      "outputs": [
        {
          "output_type": "stream",
          "text": [
            "Entlang ADP\n",
            "der DET\n",
            "3,5 NUM\n",
            "km NOUN\n",
            "langen ADJ\n",
            "Strecke NOUN\n",
            "spenden VERB\n",
            "ca. ADV\n",
            "600.000 NUM\n",
            "Besucher*innen ADJ\n",
            "Beifall NOUN\n",
            "und CCONJ\n",
            "lassen VERB\n",
            "sich PRON\n",
            "vom ADP\n",
            "Tanz NOUN\n",
            "der DET\n",
            "Fantasie NOUN\n",
            "und CCONJ\n",
            "Freude NOUN\n",
            "mitreißen VERB\n",
            ". PUNCT\n"
          ],
          "name": "stdout"
        }
      ]
    },
    {
      "cell_type": "code",
      "metadata": {
        "colab": {
          "base_uri": "https://localhost:8080/"
        },
        "id": "t86Nul2P00rj",
        "outputId": "bfcbf53b-1d01-4ed4-a784-9009f5efee8b"
      },
      "source": [
        "len(nlp.vocab.strings)"
      ],
      "execution_count": null,
      "outputs": [
        {
          "output_type": "execute_result",
          "data": {
            "text/plain": [
              "1073"
            ]
          },
          "metadata": {
            "tags": []
          },
          "execution_count": 23
        }
      ]
    },
    {
      "cell_type": "code",
      "metadata": {
        "id": "zlnKH0hdjNe0"
      },
      "source": [
        "from spacy.lang.de import German\n",
        "\n",
        "nlp = German()"
      ],
      "execution_count": null,
      "outputs": []
    },
    {
      "cell_type": "code",
      "metadata": {
        "id": "C81iCXVjjNe0"
      },
      "source": [
        "text = 'Die COVID-19-Pandemie stellt uns alle vor außergewöhnliche Herausforderungen.Die Berlinale ist sich der aktuellen Situation sehr bewusst und beobachtet die Lage sorgfältig.Nach wie vor ist es unser Wunsch, das Festival physisch durchzuführen und so auch 2021 einen Ort des Austauschs und der Begegnung zu bieten.'"
      ],
      "execution_count": null,
      "outputs": []
    },
    {
      "cell_type": "code",
      "metadata": {
        "id": "L-RRzUL5jNe0"
      },
      "source": [
        "doc = nlp(text)"
      ],
      "execution_count": null,
      "outputs": []
    },
    {
      "cell_type": "code",
      "metadata": {
        "colab": {
          "base_uri": "https://localhost:8080/"
        },
        "id": "hb-u8FUzjNe0",
        "outputId": "4c2474d5-dc2f-4cbc-bcc9-3042c6998ae3"
      },
      "source": [
        "for token in doc:\n",
        "    print (token.text)"
      ],
      "execution_count": null,
      "outputs": [
        {
          "output_type": "stream",
          "text": [
            "Die\n",
            "COVID-19-Pandemie\n",
            "stellt\n",
            "uns\n",
            "alle\n",
            "vor\n",
            "außergewöhnliche\n",
            "Herausforderungen\n",
            ".\n",
            "Die\n",
            "Berlinale\n",
            "ist\n",
            "sich\n",
            "der\n",
            "aktuellen\n",
            "Situation\n",
            "sehr\n",
            "bewusst\n",
            "und\n",
            "beobachtet\n",
            "die\n",
            "Lage\n",
            "sorgfältig\n",
            ".\n",
            "Nach\n",
            "wie\n",
            "vor\n",
            "ist\n",
            "es\n",
            "unser\n",
            "Wunsch\n",
            ",\n",
            "das\n",
            "Festival\n",
            "physisch\n",
            "durchzuführen\n",
            "und\n",
            "so\n",
            "auch\n",
            "2021\n",
            "einen\n",
            "Ort\n",
            "des\n",
            "Austauschs\n",
            "und\n",
            "der\n",
            "Begegnung\n",
            "zu\n",
            "bieten\n",
            ".\n"
          ],
          "name": "stdout"
        }
      ]
    },
    {
      "cell_type": "code",
      "metadata": {
        "colab": {
          "base_uri": "https://localhost:8080/"
        },
        "id": "Xa-XX_KHjNe0",
        "outputId": "259c8e91-d70d-45be-ad30-7f011bdd8348"
      },
      "source": [
        "token.i"
      ],
      "execution_count": null,
      "outputs": [
        {
          "output_type": "execute_result",
          "data": {
            "text/plain": [
              "49"
            ]
          },
          "metadata": {
            "tags": []
          },
          "execution_count": 28
        }
      ]
    },
    {
      "cell_type": "code",
      "metadata": {
        "colab": {
          "base_uri": "https://localhost:8080/"
        },
        "id": "MXNlyp9kjNe0",
        "outputId": "9ac67e6f-4985-42d7-e4e0-89bf189366ac"
      },
      "source": [
        "print('Index: ', [token.i for token in doc]) \n",
        "print('Text: ', [token.text for token in doc])\n",
        "print('is_alpha:', [token.is_alpha for token in doc]) \n",
        "print('is_punct:', [token.is_punct for token in doc]) \n",
        "print('like_num:', [token.like_num for token in doc])"
      ],
      "execution_count": null,
      "outputs": [
        {
          "output_type": "stream",
          "text": [
            "Index:  [0, 1, 2, 3, 4, 5, 6, 7, 8, 9, 10, 11, 12, 13, 14, 15, 16, 17, 18, 19, 20, 21, 22, 23, 24, 25, 26, 27, 28, 29, 30, 31, 32, 33, 34, 35, 36, 37, 38, 39, 40, 41, 42, 43, 44, 45, 46, 47, 48, 49]\n",
            "Text:  ['Die', 'COVID-19-Pandemie', 'stellt', 'uns', 'alle', 'vor', 'außergewöhnliche', 'Herausforderungen', '.', 'Die', 'Berlinale', 'ist', 'sich', 'der', 'aktuellen', 'Situation', 'sehr', 'bewusst', 'und', 'beobachtet', 'die', 'Lage', 'sorgfältig', '.', 'Nach', 'wie', 'vor', 'ist', 'es', 'unser', 'Wunsch', ',', 'das', 'Festival', 'physisch', 'durchzuführen', 'und', 'so', 'auch', '2021', 'einen', 'Ort', 'des', 'Austauschs', 'und', 'der', 'Begegnung', 'zu', 'bieten', '.']\n",
            "is_alpha: [True, False, True, True, True, True, True, True, False, True, True, True, True, True, True, True, True, True, True, True, True, True, True, False, True, True, True, True, True, True, True, False, True, True, True, True, True, True, True, False, True, True, True, True, True, True, True, True, True, False]\n",
            "is_punct: [False, False, False, False, False, False, False, False, True, False, False, False, False, False, False, False, False, False, False, False, False, False, False, True, False, False, False, False, False, False, False, True, False, False, False, False, False, False, False, False, False, False, False, False, False, False, False, False, False, True]\n",
            "like_num: [False, False, False, False, False, False, False, False, False, False, False, False, False, False, False, False, False, False, False, False, False, False, False, False, False, False, False, False, False, False, False, False, False, False, False, False, False, False, False, True, False, False, False, False, False, False, False, False, False, False]\n"
          ],
          "name": "stdout"
        }
      ]
    },
    {
      "cell_type": "code",
      "metadata": {
        "id": "MbuBORZojNe1"
      },
      "source": [
        "span = doc[1:5]"
      ],
      "execution_count": null,
      "outputs": []
    },
    {
      "cell_type": "code",
      "metadata": {
        "colab": {
          "base_uri": "https://localhost:8080/"
        },
        "id": "0qMI78MujNe1",
        "outputId": "5cb137f3-5ce7-477c-dc17-98833fe531ff"
      },
      "source": [
        "print(span.text)"
      ],
      "execution_count": null,
      "outputs": [
        {
          "output_type": "stream",
          "text": [
            "COVID-19-Pandemie stellt uns alle\n"
          ],
          "name": "stdout"
        }
      ]
    },
    {
      "cell_type": "code",
      "metadata": {
        "id": "5o8mhJPZuRpx"
      },
      "source": [
        ""
      ],
      "execution_count": null,
      "outputs": []
    }
  ]
}